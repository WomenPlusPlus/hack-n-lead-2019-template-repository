{
 "cells": [
  {
   "cell_type": "markdown",
   "metadata": {},
   "source": [
    "# Creating a model based on Global Slavery Index Dataset"
   ]
  },
  {
   "cell_type": "markdown",
   "metadata": {},
   "source": [
    "## Introduction\n",
    "\n",
    "- [source]https://www.globalslaveryindex.org/resources/downloads/\n",
    "- Create a model using this dataset to assess and predict if a person is high / low risk exploited worker. "
   ]
  },
  {
   "cell_type": "code",
   "execution_count": 70,
   "metadata": {},
   "outputs": [],
   "source": [
    "import pandas as pd\n",
    "import numpy as np\n",
    "import csv\n",
    "import os"
   ]
  },
  {
   "cell_type": "code",
   "execution_count": 77,
   "metadata": {},
   "outputs": [],
   "source": [
    "def loadRawData(folder, filename):\n",
    "    return pd.read_csv(os.path.join(folder, filename), sep=',', low_memory=False)"
   ]
  },
  {
   "cell_type": "code",
   "execution_count": 75,
   "metadata": {},
   "outputs": [],
   "source": [
    "df = loadRawData('Dataset', 'global_dataset.csv')"
   ]
  },
  {
   "cell_type": "markdown",
   "metadata": {},
   "source": [
    "## Data Cleaning"
   ]
  },
  {
   "cell_type": "code",
   "execution_count": 16,
   "metadata": {},
   "outputs": [
    {
     "name": "stdout",
     "output_type": "stream",
     "text": [
      "Initial shape of dataset before cleaning (55434, 62)\n"
     ]
    }
   ],
   "source": [
    "print ('Initial shape of dataset before cleaning', df.shape)"
   ]
  },
  {
   "cell_type": "code",
   "execution_count": 17,
   "metadata": {},
   "outputs": [],
   "source": [
    "# features keeping for modelling\n",
    "\n",
    "keepCols = ['gender', 'ageBroad',\n",
    "       'citizenship', 'meansOfControlDebtBondage',\n",
    "       'meansOfControlTakesEarnings', 'meansOfControlRestrictsFinancialAccess',\n",
    "       'meansOfControlThreats', 'meansOfControlPsychologicalAbuse',\n",
    "       'meansOfControlPhysicalAbuse', 'meansOfControlSexualAbuse',\n",
    "       'meansOfControlFalsePromises', 'meansOfControlPsychoactiveSubstances',\n",
    "       'meansOfControlRestrictsMovement', 'meansOfControlRestrictsMedicalCare',\n",
    "       'meansOfControlExcessiveWorkingHours', 'meansOfControlUsesChildren',\n",
    "       'meansOfControlThreatOfLawEnforcement',\n",
    "       'meansOfControlWithholdsNecessities',\n",
    "       'meansOfControlWithholdsDocuments', 'meansOfControlOther',\n",
    "       'meansOfControlNotSpecified', 'isForcedLabour']\n",
    "\n",
    "filter_df = df[keepCols]"
   ]
  },
  {
   "cell_type": "code",
   "execution_count": 47,
   "metadata": {},
   "outputs": [],
   "source": [
    "# removing rows that has -99 as values, which represent missing data\n",
    "# for citizenship, ZZ represent unknown\n",
    "\n",
    "filterRows = filter_df.loc[~(filter_df['gender'] == '-99')]\n",
    "filterRows = filterRows.loc[(filterRows['ageBroad'] != '-99')]\n",
    "filterRows = filterRows.loc[(filterRows['citizenship'] != '-99')]\n",
    "filterRows = filterRows.loc[(filterRows['citizenship'] != 'ZZ')]"
   ]
  },
  {
   "cell_type": "code",
   "execution_count": 49,
   "metadata": {},
   "outputs": [
    {
     "name": "stdout",
     "output_type": "stream",
     "text": [
      "Shape of dataset after filtering (30565, 22)\n"
     ]
    }
   ],
   "source": [
    "print ('Shape of dataset after filtering', filterRows.shape)"
   ]
  },
  {
   "cell_type": "code",
   "execution_count": 50,
   "metadata": {
    "scrolled": true
   },
   "outputs": [
    {
     "data": {
      "text/html": [
       "<div>\n",
       "<style scoped>\n",
       "    .dataframe tbody tr th:only-of-type {\n",
       "        vertical-align: middle;\n",
       "    }\n",
       "\n",
       "    .dataframe tbody tr th {\n",
       "        vertical-align: top;\n",
       "    }\n",
       "\n",
       "    .dataframe thead th {\n",
       "        text-align: right;\n",
       "    }\n",
       "</style>\n",
       "<table border=\"1\" class=\"dataframe\">\n",
       "  <thead>\n",
       "    <tr style=\"text-align: right;\">\n",
       "      <th></th>\n",
       "      <th>gender</th>\n",
       "      <th>ageBroad</th>\n",
       "      <th>citizenship</th>\n",
       "      <th>meansOfControlDebtBondage</th>\n",
       "      <th>meansOfControlTakesEarnings</th>\n",
       "      <th>meansOfControlRestrictsFinancialAccess</th>\n",
       "      <th>meansOfControlThreats</th>\n",
       "      <th>meansOfControlPsychologicalAbuse</th>\n",
       "      <th>meansOfControlPhysicalAbuse</th>\n",
       "      <th>meansOfControlSexualAbuse</th>\n",
       "      <th>...</th>\n",
       "      <th>meansOfControlRestrictsMovement</th>\n",
       "      <th>meansOfControlRestrictsMedicalCare</th>\n",
       "      <th>meansOfControlExcessiveWorkingHours</th>\n",
       "      <th>meansOfControlUsesChildren</th>\n",
       "      <th>meansOfControlThreatOfLawEnforcement</th>\n",
       "      <th>meansOfControlWithholdsNecessities</th>\n",
       "      <th>meansOfControlWithholdsDocuments</th>\n",
       "      <th>meansOfControlOther</th>\n",
       "      <th>meansOfControlNotSpecified</th>\n",
       "      <th>isForcedLabour</th>\n",
       "    </tr>\n",
       "  </thead>\n",
       "  <tbody>\n",
       "    <tr>\n",
       "      <th>13</th>\n",
       "      <td>Female</td>\n",
       "      <td>18--20</td>\n",
       "      <td>CO</td>\n",
       "      <td>-99</td>\n",
       "      <td>-99</td>\n",
       "      <td>-99</td>\n",
       "      <td>-99</td>\n",
       "      <td>-99</td>\n",
       "      <td>-99</td>\n",
       "      <td>-99</td>\n",
       "      <td>...</td>\n",
       "      <td>-99</td>\n",
       "      <td>-99</td>\n",
       "      <td>-99</td>\n",
       "      <td>-99</td>\n",
       "      <td>-99</td>\n",
       "      <td>-99</td>\n",
       "      <td>-99</td>\n",
       "      <td>-99</td>\n",
       "      <td>1</td>\n",
       "      <td>0</td>\n",
       "    </tr>\n",
       "    <tr>\n",
       "      <th>14</th>\n",
       "      <td>Female</td>\n",
       "      <td>18--20</td>\n",
       "      <td>CO</td>\n",
       "      <td>-99</td>\n",
       "      <td>-99</td>\n",
       "      <td>-99</td>\n",
       "      <td>-99</td>\n",
       "      <td>-99</td>\n",
       "      <td>-99</td>\n",
       "      <td>-99</td>\n",
       "      <td>...</td>\n",
       "      <td>-99</td>\n",
       "      <td>-99</td>\n",
       "      <td>-99</td>\n",
       "      <td>-99</td>\n",
       "      <td>-99</td>\n",
       "      <td>-99</td>\n",
       "      <td>-99</td>\n",
       "      <td>-99</td>\n",
       "      <td>1</td>\n",
       "      <td>0</td>\n",
       "    </tr>\n",
       "    <tr>\n",
       "      <th>15</th>\n",
       "      <td>Female</td>\n",
       "      <td>18--20</td>\n",
       "      <td>CO</td>\n",
       "      <td>-99</td>\n",
       "      <td>-99</td>\n",
       "      <td>-99</td>\n",
       "      <td>-99</td>\n",
       "      <td>-99</td>\n",
       "      <td>-99</td>\n",
       "      <td>-99</td>\n",
       "      <td>...</td>\n",
       "      <td>-99</td>\n",
       "      <td>-99</td>\n",
       "      <td>-99</td>\n",
       "      <td>-99</td>\n",
       "      <td>-99</td>\n",
       "      <td>-99</td>\n",
       "      <td>-99</td>\n",
       "      <td>-99</td>\n",
       "      <td>1</td>\n",
       "      <td>0</td>\n",
       "    </tr>\n",
       "    <tr>\n",
       "      <th>16</th>\n",
       "      <td>Female</td>\n",
       "      <td>18--20</td>\n",
       "      <td>CO</td>\n",
       "      <td>-99</td>\n",
       "      <td>-99</td>\n",
       "      <td>-99</td>\n",
       "      <td>-99</td>\n",
       "      <td>-99</td>\n",
       "      <td>-99</td>\n",
       "      <td>-99</td>\n",
       "      <td>...</td>\n",
       "      <td>-99</td>\n",
       "      <td>-99</td>\n",
       "      <td>-99</td>\n",
       "      <td>-99</td>\n",
       "      <td>-99</td>\n",
       "      <td>-99</td>\n",
       "      <td>-99</td>\n",
       "      <td>-99</td>\n",
       "      <td>1</td>\n",
       "      <td>0</td>\n",
       "    </tr>\n",
       "    <tr>\n",
       "      <th>17</th>\n",
       "      <td>Female</td>\n",
       "      <td>18--20</td>\n",
       "      <td>CO</td>\n",
       "      <td>-99</td>\n",
       "      <td>-99</td>\n",
       "      <td>-99</td>\n",
       "      <td>-99</td>\n",
       "      <td>-99</td>\n",
       "      <td>-99</td>\n",
       "      <td>-99</td>\n",
       "      <td>...</td>\n",
       "      <td>-99</td>\n",
       "      <td>-99</td>\n",
       "      <td>-99</td>\n",
       "      <td>-99</td>\n",
       "      <td>-99</td>\n",
       "      <td>-99</td>\n",
       "      <td>-99</td>\n",
       "      <td>-99</td>\n",
       "      <td>1</td>\n",
       "      <td>0</td>\n",
       "    </tr>\n",
       "  </tbody>\n",
       "</table>\n",
       "<p>5 rows × 22 columns</p>\n",
       "</div>"
      ],
      "text/plain": [
       "    gender ageBroad citizenship  meansOfControlDebtBondage  \\\n",
       "13  Female   18--20          CO                        -99   \n",
       "14  Female   18--20          CO                        -99   \n",
       "15  Female   18--20          CO                        -99   \n",
       "16  Female   18--20          CO                        -99   \n",
       "17  Female   18--20          CO                        -99   \n",
       "\n",
       "    meansOfControlTakesEarnings  meansOfControlRestrictsFinancialAccess  \\\n",
       "13                          -99                                     -99   \n",
       "14                          -99                                     -99   \n",
       "15                          -99                                     -99   \n",
       "16                          -99                                     -99   \n",
       "17                          -99                                     -99   \n",
       "\n",
       "    meansOfControlThreats  meansOfControlPsychologicalAbuse  \\\n",
       "13                    -99                               -99   \n",
       "14                    -99                               -99   \n",
       "15                    -99                               -99   \n",
       "16                    -99                               -99   \n",
       "17                    -99                               -99   \n",
       "\n",
       "    meansOfControlPhysicalAbuse  meansOfControlSexualAbuse       ...        \\\n",
       "13                          -99                        -99       ...         \n",
       "14                          -99                        -99       ...         \n",
       "15                          -99                        -99       ...         \n",
       "16                          -99                        -99       ...         \n",
       "17                          -99                        -99       ...         \n",
       "\n",
       "    meansOfControlRestrictsMovement  meansOfControlRestrictsMedicalCare  \\\n",
       "13                              -99                                 -99   \n",
       "14                              -99                                 -99   \n",
       "15                              -99                                 -99   \n",
       "16                              -99                                 -99   \n",
       "17                              -99                                 -99   \n",
       "\n",
       "    meansOfControlExcessiveWorkingHours  meansOfControlUsesChildren  \\\n",
       "13                                  -99                         -99   \n",
       "14                                  -99                         -99   \n",
       "15                                  -99                         -99   \n",
       "16                                  -99                         -99   \n",
       "17                                  -99                         -99   \n",
       "\n",
       "    meansOfControlThreatOfLawEnforcement  meansOfControlWithholdsNecessities  \\\n",
       "13                                   -99                                 -99   \n",
       "14                                   -99                                 -99   \n",
       "15                                   -99                                 -99   \n",
       "16                                   -99                                 -99   \n",
       "17                                   -99                                 -99   \n",
       "\n",
       "    meansOfControlWithholdsDocuments  meansOfControlOther  \\\n",
       "13                               -99                  -99   \n",
       "14                               -99                  -99   \n",
       "15                               -99                  -99   \n",
       "16                               -99                  -99   \n",
       "17                               -99                  -99   \n",
       "\n",
       "    meansOfControlNotSpecified  isForcedLabour  \n",
       "13                           1               0  \n",
       "14                           1               0  \n",
       "15                           1               0  \n",
       "16                           1               0  \n",
       "17                           1               0  \n",
       "\n",
       "[5 rows x 22 columns]"
      ]
     },
     "execution_count": 50,
     "metadata": {},
     "output_type": "execute_result"
    }
   ],
   "source": [
    "filterRows.head()"
   ]
  },
  {
   "cell_type": "markdown",
   "metadata": {},
   "source": [
    "## Data Encoding in preparation to passing dataset thru a model"
   ]
  },
  {
   "cell_type": "code",
   "execution_count": 51,
   "metadata": {},
   "outputs": [],
   "source": [
    "## value 10 is used to represent unknown data. \n",
    "\n",
    "replaceSex = {'Female': 1, 'Male': 0}\n",
    "replaceAge = {'0--8': 0, '9--17': 1, '18--20': 2, '21--23': 3, '24--26': 4, '27--29': 5, '30--38': 6, '39--47': 7, '48+':8}\n",
    "replaceAll = {'Unknown': 10, -99: 10}"
   ]
  },
  {
   "cell_type": "code",
   "execution_count": 52,
   "metadata": {},
   "outputs": [],
   "source": [
    "filterRows.replace(replaceSex, inplace=True)\n",
    "filterRows.replace(replaceAge, inplace=True)\n",
    "filterRows.replace(replaceAll, inplace=True)"
   ]
  },
  {
   "cell_type": "code",
   "execution_count": 53,
   "metadata": {},
   "outputs": [
    {
     "data": {
      "text/plain": [
       "10    14340\n",
       "0      9449\n",
       "1      6776\n",
       "Name: isForcedLabour, dtype: int64"
      ]
     },
     "execution_count": 53,
     "metadata": {},
     "output_type": "execute_result"
    }
   ],
   "source": [
    "filterRows.isForcedLabour.value_counts()"
   ]
  },
  {
   "cell_type": "markdown",
   "metadata": {},
   "source": [
    "### Findings\n",
    "\n",
    "- Due to the sparse dataset, and the inital decision taken to limit the number of indicators, the number of features of the dataset has been decresed from 62 to 22 (not inclusive of 'gender', 'ageBroad', 'citizenship', 'isForcedLabour').\n",
    "- There is a huge class imbalance. \n",
    "- Assumptions are taken to categorize the rows from 'isForcedLabour' to be classified into 0 - Not Forced, 1 - Forced, 10 - Unknown"
   ]
  },
  {
   "cell_type": "markdown",
   "metadata": {},
   "source": [
    "## DecisionTree"
   ]
  },
  {
   "cell_type": "code",
   "execution_count": 23,
   "metadata": {},
   "outputs": [],
   "source": [
    "from sklearn.tree import DecisionTreeClassifier\n",
    "from sklearn.tree import export_graphviz\n",
    "import graphviz"
   ]
  },
  {
   "cell_type": "code",
   "execution_count": 54,
   "metadata": {},
   "outputs": [],
   "source": [
    "encoded_df = pd.get_dummies(filterRows,columns=['citizenship'])"
   ]
  },
  {
   "cell_type": "code",
   "execution_count": 55,
   "metadata": {},
   "outputs": [],
   "source": [
    "#create X/y arrays\n",
    "X = encoded_df.drop(['isForcedLabour'],axis=1).values\n",
    "y = encoded_df.isForcedLabour.values"
   ]
  },
  {
   "cell_type": "code",
   "execution_count": 56,
   "metadata": {},
   "outputs": [
    {
     "data": {
      "text/plain": [
       "DecisionTreeClassifier(class_weight=None, criterion='gini', max_depth=2,\n",
       "            max_features=None, max_leaf_nodes=None,\n",
       "            min_impurity_decrease=0.0, min_impurity_split=None,\n",
       "            min_samples_leaf=1, min_samples_split=2,\n",
       "            min_weight_fraction_leaf=0.0, presort=False, random_state=0,\n",
       "            splitter='best')"
      ]
     },
     "execution_count": 56,
     "metadata": {},
     "output_type": "execute_result"
    }
   ],
   "source": [
    "dt = DecisionTreeClassifier(max_depth=2,random_state=0)\n",
    "dt.fit(X,y)"
   ]
  },
  {
   "cell_type": "code",
   "execution_count": 57,
   "metadata": {},
   "outputs": [
    {
     "name": "stdout",
     "output_type": "stream",
     "text": [
      "The mean accuracy of test data and label is 0.669\n"
     ]
    }
   ],
   "source": [
    "print ('The mean accuracy of test data and label is {:.3f}'.format(dt.score(X,y)))"
   ]
  },
  {
   "cell_type": "code",
   "execution_count": 58,
   "metadata": {},
   "outputs": [],
   "source": [
    "features = encoded_df.drop(['isForcedLabour'], axis=1)"
   ]
  },
  {
   "cell_type": "code",
   "execution_count": 67,
   "metadata": {},
   "outputs": [
    {
     "data": {
      "text/plain": [
       "10    0.469164\n",
       "0     0.309144\n",
       "1     0.221691\n",
       "Name: isForcedLabour, dtype: float64"
      ]
     },
     "execution_count": 67,
     "metadata": {},
     "output_type": "execute_result"
    }
   ],
   "source": [
    "filterRows.isForcedLabour.value_counts(normalize=True)"
   ]
  },
  {
   "cell_type": "code",
   "execution_count": 59,
   "metadata": {},
   "outputs": [
    {
     "data": {
      "image/svg+xml": [
       "<?xml version=\"1.0\" encoding=\"UTF-8\" standalone=\"no\"?>\r\n",
       "<!DOCTYPE svg PUBLIC \"-//W3C//DTD SVG 1.1//EN\"\r\n",
       " \"http://www.w3.org/Graphics/SVG/1.1/DTD/svg11.dtd\">\r\n",
       "<!-- Generated by graphviz version 2.38.0 (20140413.2041)\r\n",
       " -->\r\n",
       "<!-- Title: Tree Pages: 1 -->\r\n",
       "<svg width=\"822pt\" height=\"314pt\"\r\n",
       " viewBox=\"0.00 0.00 822.00 314.00\" xmlns=\"http://www.w3.org/2000/svg\" xmlns:xlink=\"http://www.w3.org/1999/xlink\">\r\n",
       "<g id=\"graph0\" class=\"graph\" transform=\"scale(1 1) rotate(0) translate(4 310)\">\r\n",
       "<title>Tree</title>\r\n",
       "<polygon fill=\"white\" stroke=\"none\" points=\"-4,4 -4,-310 818,-310 818,4 -4,4\"/>\r\n",
       "<!-- 0 -->\r\n",
       "<g id=\"node1\" class=\"node\"><title>0</title>\r\n",
       "<path fill=\"#8139e5\" fill-opacity=\"0.231373\" stroke=\"black\" d=\"M501,-306C501,-306 327,-306 327,-306 321,-306 315,-300 315,-294 315,-294 315,-235 315,-235 315,-229 321,-223 327,-223 327,-223 501,-223 501,-223 507,-223 513,-229 513,-235 513,-235 513,-294 513,-294 513,-300 507,-306 501,-306\"/>\r\n",
       "<text text-anchor=\"middle\" x=\"414\" y=\"-290.8\" font-family=\"Helvetica,sans-Serif\" font-size=\"14.00\">citizenship_US &lt;= 0.5</text>\r\n",
       "<text text-anchor=\"middle\" x=\"414\" y=\"-275.8\" font-family=\"Helvetica,sans-Serif\" font-size=\"14.00\">gini = 0.635</text>\r\n",
       "<text text-anchor=\"middle\" x=\"414\" y=\"-260.8\" font-family=\"Helvetica,sans-Serif\" font-size=\"14.00\">samples = 100.0%</text>\r\n",
       "<text text-anchor=\"middle\" x=\"414\" y=\"-245.8\" font-family=\"Helvetica,sans-Serif\" font-size=\"14.00\">value = [0.309, 0.222, 0.469]</text>\r\n",
       "<text text-anchor=\"middle\" x=\"414\" y=\"-230.8\" font-family=\"Helvetica,sans-Serif\" font-size=\"14.00\">class = unknown</text>\r\n",
       "</g>\r\n",
       "<!-- 1 -->\r\n",
       "<g id=\"node2\" class=\"node\"><title>1</title>\r\n",
       "<path fill=\"#8139e5\" fill-opacity=\"0.380392\" stroke=\"black\" d=\"M410,-187C410,-187 186,-187 186,-187 180,-187 174,-181 174,-175 174,-175 174,-116 174,-116 174,-110 180,-104 186,-104 186,-104 410,-104 410,-104 416,-104 422,-110 422,-116 422,-116 422,-175 422,-175 422,-181 416,-187 410,-187\"/>\r\n",
       "<text text-anchor=\"middle\" x=\"298\" y=\"-171.8\" font-family=\"Helvetica,sans-Serif\" font-size=\"14.00\">meansOfControlNotSpecified &lt;= 0.5</text>\r\n",
       "<text text-anchor=\"middle\" x=\"298\" y=\"-156.8\" font-family=\"Helvetica,sans-Serif\" font-size=\"14.00\">gini = 0.602</text>\r\n",
       "<text text-anchor=\"middle\" x=\"298\" y=\"-141.8\" font-family=\"Helvetica,sans-Serif\" font-size=\"14.00\">samples = 86.4%</text>\r\n",
       "<text text-anchor=\"middle\" x=\"298\" y=\"-126.8\" font-family=\"Helvetica,sans-Serif\" font-size=\"14.00\">value = [0.205, 0.257, 0.539]</text>\r\n",
       "<text text-anchor=\"middle\" x=\"298\" y=\"-111.8\" font-family=\"Helvetica,sans-Serif\" font-size=\"14.00\">class = unknown</text>\r\n",
       "</g>\r\n",
       "<!-- 0&#45;&gt;1 -->\r\n",
       "<g id=\"edge1\" class=\"edge\"><title>0&#45;&gt;1</title>\r\n",
       "<path fill=\"none\" stroke=\"black\" d=\"M373.754,-222.907C364.577,-213.651 354.743,-203.732 345.301,-194.209\"/>\r\n",
       "<polygon fill=\"black\" stroke=\"black\" points=\"347.701,-191.658 338.174,-187.021 342.73,-196.586 347.701,-191.658\"/>\r\n",
       "<text text-anchor=\"middle\" x=\"338.067\" y=\"-208.321\" font-family=\"Helvetica,sans-Serif\" font-size=\"14.00\">True</text>\r\n",
       "</g>\r\n",
       "<!-- 4 -->\r\n",
       "<g id=\"node5\" class=\"node\"><title>4</title>\r\n",
       "<path fill=\"#e58139\" fill-opacity=\"0.972549\" stroke=\"black\" d=\"M610,-187C610,-187 452,-187 452,-187 446,-187 440,-181 440,-175 440,-175 440,-116 440,-116 440,-110 446,-104 452,-104 452,-104 610,-104 610,-104 616,-104 622,-110 622,-116 622,-116 622,-175 622,-175 622,-181 616,-187 610,-187\"/>\r\n",
       "<text text-anchor=\"middle\" x=\"531\" y=\"-171.8\" font-family=\"Helvetica,sans-Serif\" font-size=\"14.00\">ageBroad &lt;= 5.5</text>\r\n",
       "<text text-anchor=\"middle\" x=\"531\" y=\"-156.8\" font-family=\"Helvetica,sans-Serif\" font-size=\"14.00\">gini = 0.053</text>\r\n",
       "<text text-anchor=\"middle\" x=\"531\" y=\"-141.8\" font-family=\"Helvetica,sans-Serif\" font-size=\"14.00\">samples = 13.6%</text>\r\n",
       "<text text-anchor=\"middle\" x=\"531\" y=\"-126.8\" font-family=\"Helvetica,sans-Serif\" font-size=\"14.00\">value = [0.973, 0.0, 0.027]</text>\r\n",
       "<text text-anchor=\"middle\" x=\"531\" y=\"-111.8\" font-family=\"Helvetica,sans-Serif\" font-size=\"14.00\">class = isForcedLabour</text>\r\n",
       "</g>\r\n",
       "<!-- 0&#45;&gt;4 -->\r\n",
       "<g id=\"edge4\" class=\"edge\"><title>0&#45;&gt;4</title>\r\n",
       "<path fill=\"none\" stroke=\"black\" d=\"M454.593,-222.907C463.849,-213.651 473.768,-203.732 483.291,-194.209\"/>\r\n",
       "<polygon fill=\"black\" stroke=\"black\" points=\"485.883,-196.567 490.479,-187.021 480.933,-191.617 485.883,-196.567\"/>\r\n",
       "<text text-anchor=\"middle\" x=\"490.479\" y=\"-208.321\" font-family=\"Helvetica,sans-Serif\" font-size=\"14.00\">False</text>\r\n",
       "</g>\r\n",
       "<!-- 2 -->\r\n",
       "<g id=\"node3\" class=\"node\"><title>2</title>\r\n",
       "<path fill=\"#39e581\" fill-opacity=\"0.733333\" stroke=\"black\" d=\"M186,-68C186,-68 12,-68 12,-68 6,-68 0,-62 0,-56 0,-56 0,-12 0,-12 0,-6 6,-0 12,-0 12,-0 186,-0 186,-0 192,-0 198,-6 198,-12 198,-12 198,-56 198,-56 198,-62 192,-68 186,-68\"/>\r\n",
       "<text text-anchor=\"middle\" x=\"99\" y=\"-52.8\" font-family=\"Helvetica,sans-Serif\" font-size=\"14.00\">gini = 0.386</text>\r\n",
       "<text text-anchor=\"middle\" x=\"99\" y=\"-37.8\" font-family=\"Helvetica,sans-Serif\" font-size=\"14.00\">samples = 11.2%</text>\r\n",
       "<text text-anchor=\"middle\" x=\"99\" y=\"-22.8\" font-family=\"Helvetica,sans-Serif\" font-size=\"14.00\">value = [0.107, 0.766, 0.127]</text>\r\n",
       "<text text-anchor=\"middle\" x=\"99\" y=\"-7.8\" font-family=\"Helvetica,sans-Serif\" font-size=\"14.00\">class = notForced</text>\r\n",
       "</g>\r\n",
       "<!-- 1&#45;&gt;2 -->\r\n",
       "<g id=\"edge2\" class=\"edge\"><title>1&#45;&gt;2</title>\r\n",
       "<path fill=\"none\" stroke=\"black\" d=\"M224.183,-103.882C205.741,-93.7346 186.037,-82.8922 167.847,-72.8832\"/>\r\n",
       "<polygon fill=\"black\" stroke=\"black\" points=\"169.5,-69.7978 159.051,-68.0433 166.125,-75.9307 169.5,-69.7978\"/>\r\n",
       "</g>\r\n",
       "<!-- 3 -->\r\n",
       "<g id=\"node4\" class=\"node\"><title>3</title>\r\n",
       "<path fill=\"#8139e5\" fill-opacity=\"0.486275\" stroke=\"black\" d=\"M386,-68C386,-68 228,-68 228,-68 222,-68 216,-62 216,-56 216,-56 216,-12 216,-12 216,-6 222,-0 228,-0 228,-0 386,-0 386,-0 392,-0 398,-6 398,-12 398,-12 398,-56 398,-56 398,-62 392,-68 386,-68\"/>\r\n",
       "<text text-anchor=\"middle\" x=\"307\" y=\"-52.8\" font-family=\"Helvetica,sans-Serif\" font-size=\"14.00\">gini = 0.559</text>\r\n",
       "<text text-anchor=\"middle\" x=\"307\" y=\"-37.8\" font-family=\"Helvetica,sans-Serif\" font-size=\"14.00\">samples = 75.2%</text>\r\n",
       "<text text-anchor=\"middle\" x=\"307\" y=\"-22.8\" font-family=\"Helvetica,sans-Serif\" font-size=\"14.00\">value = [0.219, 0.181, 0.6]</text>\r\n",
       "<text text-anchor=\"middle\" x=\"307\" y=\"-7.8\" font-family=\"Helvetica,sans-Serif\" font-size=\"14.00\">class = unknown</text>\r\n",
       "</g>\r\n",
       "<!-- 1&#45;&gt;3 -->\r\n",
       "<g id=\"edge3\" class=\"edge\"><title>1&#45;&gt;3</title>\r\n",
       "<path fill=\"none\" stroke=\"black\" d=\"M301.351,-103.726C302.033,-95.4263 302.753,-86.6671 303.442,-78.2834\"/>\r\n",
       "<polygon fill=\"black\" stroke=\"black\" points=\"306.932,-78.5527 304.263,-68.2996 299.956,-77.9793 306.932,-78.5527\"/>\r\n",
       "</g>\r\n",
       "<!-- 5 -->\r\n",
       "<g id=\"node6\" class=\"node\"><title>5</title>\r\n",
       "<path fill=\"#e58139\" fill-opacity=\"0.996078\" stroke=\"black\" d=\"M602,-68C602,-68 444,-68 444,-68 438,-68 432,-62 432,-56 432,-56 432,-12 432,-12 432,-6 438,-0 444,-0 444,-0 602,-0 602,-0 608,-0 614,-6 614,-12 614,-12 614,-56 614,-56 614,-62 608,-68 602,-68\"/>\r\n",
       "<text text-anchor=\"middle\" x=\"523\" y=\"-52.8\" font-family=\"Helvetica,sans-Serif\" font-size=\"14.00\">gini = 0.009</text>\r\n",
       "<text text-anchor=\"middle\" x=\"523\" y=\"-37.8\" font-family=\"Helvetica,sans-Serif\" font-size=\"14.00\">samples = 7.9%</text>\r\n",
       "<text text-anchor=\"middle\" x=\"523\" y=\"-22.8\" font-family=\"Helvetica,sans-Serif\" font-size=\"14.00\">value = [0.995, 0.0, 0.005]</text>\r\n",
       "<text text-anchor=\"middle\" x=\"523\" y=\"-7.8\" font-family=\"Helvetica,sans-Serif\" font-size=\"14.00\">class = isForcedLabour</text>\r\n",
       "</g>\r\n",
       "<!-- 4&#45;&gt;5 -->\r\n",
       "<g id=\"edge5\" class=\"edge\"><title>4&#45;&gt;5</title>\r\n",
       "<path fill=\"none\" stroke=\"black\" d=\"M528.021,-103.726C527.415,-95.4263 526.775,-86.6671 526.162,-78.2834\"/>\r\n",
       "<polygon fill=\"black\" stroke=\"black\" points=\"529.652,-78.018 525.433,-68.2996 522.671,-78.5281 529.652,-78.018\"/>\r\n",
       "</g>\r\n",
       "<!-- 6 -->\r\n",
       "<g id=\"node7\" class=\"node\"><title>6</title>\r\n",
       "<path fill=\"#e58139\" fill-opacity=\"0.937255\" stroke=\"black\" d=\"M802,-68C802,-68 644,-68 644,-68 638,-68 632,-62 632,-56 632,-56 632,-12 632,-12 632,-6 638,-0 644,-0 644,-0 802,-0 802,-0 808,-0 814,-6 814,-12 814,-12 814,-56 814,-56 814,-62 808,-68 802,-68\"/>\r\n",
       "<text text-anchor=\"middle\" x=\"723\" y=\"-52.8\" font-family=\"Helvetica,sans-Serif\" font-size=\"14.00\">gini = 0.11</text>\r\n",
       "<text text-anchor=\"middle\" x=\"723\" y=\"-37.8\" font-family=\"Helvetica,sans-Serif\" font-size=\"14.00\">samples = 5.7%</text>\r\n",
       "<text text-anchor=\"middle\" x=\"723\" y=\"-22.8\" font-family=\"Helvetica,sans-Serif\" font-size=\"14.00\">value = [0.942, 0.0, 0.058]</text>\r\n",
       "<text text-anchor=\"middle\" x=\"723\" y=\"-7.8\" font-family=\"Helvetica,sans-Serif\" font-size=\"14.00\">class = isForcedLabour</text>\r\n",
       "</g>\r\n",
       "<!-- 4&#45;&gt;6 -->\r\n",
       "<g id=\"edge6\" class=\"edge\"><title>4&#45;&gt;6</title>\r\n",
       "<path fill=\"none\" stroke=\"black\" d=\"M602.221,-103.882C619.852,-93.8269 638.679,-83.0892 656.096,-73.1563\"/>\r\n",
       "<polygon fill=\"black\" stroke=\"black\" points=\"658.108,-76.0378 665.061,-68.0433 654.64,-69.9571 658.108,-76.0378\"/>\r\n",
       "</g>\r\n",
       "</g>\r\n",
       "</svg>\r\n"
      ],
      "text/plain": [
       "<graphviz.files.Source at 0x15e331d1cc0>"
      ]
     },
     "execution_count": 59,
     "metadata": {},
     "output_type": "execute_result"
    }
   ],
   "source": [
    "# Export decision tree\n",
    "dot_data = export_graphviz(dt, out_file=None,feature_names=features.columns,class_names=['isForcedLabour', 'notForced', 'unknown'],\n",
    "                           filled=True, rounded=True, proportion=True)\n",
    "\n",
    "# Display it\n",
    "graphviz.Source(dot_data)"
   ]
  },
  {
   "cell_type": "markdown",
   "metadata": {},
   "source": [
    "### Findings\n",
    "\n",
    "- Looking at the decision tree, it is quite inconclusive. \n",
    "- At a glance, the dataset tells us that those with US citizenship doesnt provided data as to whether or not they are forced into labour."
   ]
  },
  {
   "cell_type": "markdown",
   "metadata": {},
   "source": [
    "## Logistics Regression"
   ]
  },
  {
   "cell_type": "code",
   "execution_count": 61,
   "metadata": {},
   "outputs": [],
   "source": [
    "from sklearn.model_selection import train_test_split\n",
    "from sklearn.linear_model import LogisticRegression"
   ]
  },
  {
   "cell_type": "code",
   "execution_count": 62,
   "metadata": {},
   "outputs": [],
   "source": [
    "# Split into train/test sets\n",
    "X_tr, X_te, y_tr, y_te = train_test_split(X, y, test_size=0.3, random_state=0, stratify=y)"
   ]
  },
  {
   "cell_type": "code",
   "execution_count": 63,
   "metadata": {},
   "outputs": [
    {
     "name": "stdout",
     "output_type": "stream",
     "text": [
      "Most frequent baseline: 0.469\n"
     ]
    }
   ],
   "source": [
    "from sklearn.dummy import DummyClassifier\n",
    "dummy = DummyClassifier(strategy='most_frequent')\n",
    "dummy.fit(X_tr,y_tr)\n",
    "accuracy = dummy.score(X_te,y_te)\n",
    "print ('Most frequent baseline: {:.3f}'.format(accuracy))"
   ]
  },
  {
   "cell_type": "code",
   "execution_count": 64,
   "metadata": {
    "scrolled": true
   },
   "outputs": [
    {
     "name": "stderr",
     "output_type": "stream",
     "text": [
      "C:\\Users\\Zuriati\\Anaconda3\\lib\\site-packages\\sklearn\\linear_model\\logistic.py:433: FutureWarning: Default solver will be changed to 'lbfgs' in 0.22. Specify a solver to silence this warning.\n",
      "  FutureWarning)\n",
      "C:\\Users\\Zuriati\\Anaconda3\\lib\\site-packages\\sklearn\\linear_model\\logistic.py:460: FutureWarning: Default multi_class will be changed to 'auto' in 0.22. Specify the multi_class option to silence this warning.\n",
      "  \"this warning.\", FutureWarning)\n"
     ]
    },
    {
     "name": "stdout",
     "output_type": "stream",
     "text": [
      "Accuracy:0.813\n"
     ]
    }
   ],
   "source": [
    "logreg = LogisticRegression()\n",
    "logreg.fit(X_tr,y_tr)\n",
    "accuracy = logreg.score(X_te,y_te)\n",
    "print ('Accuracy:{:.3f}'.format(accuracy))"
   ]
  },
  {
   "cell_type": "markdown",
   "metadata": {},
   "source": [
    "# In theory, this model will be used in our application to assess if a person is a potential victim/exploited slave by pass the inputs thru the model."
   ]
  }
 ],
 "metadata": {
  "kernelspec": {
   "display_name": "Python 3",
   "language": "python",
   "name": "python3"
  },
  "language_info": {
   "codemirror_mode": {
    "name": "ipython",
    "version": 3
   },
   "file_extension": ".py",
   "mimetype": "text/x-python",
   "name": "python",
   "nbconvert_exporter": "python",
   "pygments_lexer": "ipython3",
   "version": "3.7.1"
  }
 },
 "nbformat": 4,
 "nbformat_minor": 2
}
